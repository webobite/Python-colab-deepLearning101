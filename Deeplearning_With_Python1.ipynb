{
  "nbformat": 4,
  "nbformat_minor": 0,
  "metadata": {
    "colab": {
      "name": "Deeplearning_With_Python1.ipynb",
      "provenance": [],
      "collapsed_sections": [],
      "authorship_tag": "ABX9TyNa9V+9Z4aL3x+TGTnwZypa",
      "include_colab_link": true
    },
    "kernelspec": {
      "name": "python3",
      "display_name": "Python 3"
    }
  },
  "cells": [
    {
      "cell_type": "markdown",
      "metadata": {
        "id": "view-in-github",
        "colab_type": "text"
      },
      "source": [
        "<a href=\"https://colab.research.google.com/github/webobite/Python-colab-deepLearning101/blob/master/Deeplearning_With_Python1.ipynb\" target=\"_parent\"><img src=\"https://colab.research.google.com/assets/colab-badge.svg\" alt=\"Open In Colab\"/></a>"
      ]
    },
    {
      "cell_type": "code",
      "metadata": {
        "id": "p_WmUPCW8CT2",
        "colab_type": "code",
        "colab": {}
      },
      "source": [
        "from keras.datasets import mnist\n",
        "(train_images, train_labels), (test_images, test_labels) = mnist.load_data()"
      ],
      "execution_count": 0,
      "outputs": []
    },
    {
      "cell_type": "code",
      "metadata": {
        "id": "O856XSAx8jxW",
        "colab_type": "code",
        "outputId": "f64e5e51-eaf4-4ee0-eab4-f429cff1d5b7",
        "colab": {
          "base_uri": "https://localhost:8080/",
          "height": 34
        }
      },
      "source": [
        "# train_images and train_labels form the training set, the data that the model will learn from. \n",
        "# The model will then be tested on the test set, test_images and test_labels\n",
        "print(\"Shape --> \",train_images.shape)"
      ],
      "execution_count": 66,
      "outputs": [
        {
          "output_type": "stream",
          "text": [
            "Shape -->  (60000, 28, 28)\n"
          ],
          "name": "stdout"
        }
      ]
    },
    {
      "cell_type": "code",
      "metadata": {
        "id": "MWfK09xd8qHx",
        "colab_type": "code",
        "outputId": "3fe25a71-013a-4e0c-8933-97199017addb",
        "colab": {
          "base_uri": "https://localhost:8080/",
          "height": 34
        }
      },
      "source": [
        "# The images are encoded as Numpy arrays, and the labels are an array of digits, ranging from 0 to 9. The images and labels have a one-to-one correspondence. \n",
        "len(train_labels)"
      ],
      "execution_count": 67,
      "outputs": [
        {
          "output_type": "execute_result",
          "data": {
            "text/plain": [
              "60000"
            ]
          },
          "metadata": {
            "tags": []
          },
          "execution_count": 67
        }
      ]
    },
    {
      "cell_type": "code",
      "metadata": {
        "id": "MnLGjNHg89KQ",
        "colab_type": "code",
        "outputId": "fde2b832-1556-4388-9a37-4d65f887ecc7",
        "colab": {
          "base_uri": "https://localhost:8080/",
          "height": 34
        }
      },
      "source": [
        "train_labels"
      ],
      "execution_count": 68,
      "outputs": [
        {
          "output_type": "execute_result",
          "data": {
            "text/plain": [
              "array([5, 0, 4, ..., 5, 6, 8], dtype=uint8)"
            ]
          },
          "metadata": {
            "tags": []
          },
          "execution_count": 68
        }
      ]
    },
    {
      "cell_type": "code",
      "metadata": {
        "id": "rT0EcWas9FS9",
        "colab_type": "code",
        "colab": {}
      },
      "source": [
        "# our network consists of a sequence of two Dense layers, which are densely\n",
        "# connected (also called fully connected) neural layers. The second (and last) layer is a\n",
        "# 10-way softmax layer, which means it will return an array of 10 probability scores (summing\n",
        "# to 1). Each score will be the probability that the current digit image belongs to\n",
        "# one of our 10 digit classes.\n",
        "\n",
        "\n",
        "from keras import models\n",
        "from keras import layers\n",
        "\n",
        "network = models.Sequential()\n",
        "network.add(layers.Dense(512, activation='relu', input_shape=(28 * 28,)))\n",
        "network.add(layers.Dense(10, activation='softmax'))"
      ],
      "execution_count": 0,
      "outputs": []
    },
    {
      "cell_type": "code",
      "metadata": {
        "id": "Qc-yVgD29rcc",
        "colab_type": "code",
        "colab": {}
      },
      "source": [
        "# To make the network ready for training\n",
        "#   A loss function— How the network will be able to measure its performance on\n",
        "# the training data, and thus how it will be able to steer itself in the right direction.\n",
        "#   An optimizer— The mechanism through which the network will update itself\n",
        "# based on the data it sees and its loss function.\n",
        "#   Metrics to monitor during training and testing— Here, we’ll only care about accuracy\n",
        "# (the fraction of the images that were correctly classified)."
      ],
      "execution_count": 0,
      "outputs": []
    },
    {
      "cell_type": "code",
      "metadata": {
        "id": "pc57TjMuT_CW",
        "colab_type": "code",
        "colab": {}
      },
      "source": [
        "network.compile(optimizer='rmsprop',\n",
        "                loss='categorical_crossentropy',\n",
        "                metrics=['accuracy'])"
      ],
      "execution_count": 0,
      "outputs": []
    },
    {
      "cell_type": "markdown",
      "metadata": {
        "id": "X9Ov1tayVD-y",
        "colab_type": "text"
      },
      "source": [
        "**What is Tensor ?**\n",
        "\n",
        "we started from data stored in \n",
        "\n",
        "*   multidimensional Numpy\n",
        "arrays, also called tensors.\n",
        "*   all current machine-learning systems use tensors as their basic data structure.\n",
        "*   a tensor is a container for data—almost always numerical data. So, it’s a container for numbers.\n",
        "\n"
      ]
    },
    {
      "cell_type": "code",
      "metadata": {
        "id": "YdIyrBeVVugp",
        "colab_type": "code",
        "outputId": "bda86e75-b0fe-43ab-80d9-c9dfd25df4cc",
        "colab": {
          "base_uri": "https://localhost:8080/",
          "height": 34
        }
      },
      "source": [
        "# Scalar (0D tensor)\n",
        "# A tensor that contains only one number is called a scalar (or scalar tensor, or 0-dimensional\n",
        "# tensor, or 0D tensor). \n",
        "# In Numpy, a float32 or float64 number is a scalar tensor (or scalar array).\n",
        "import numpy as np\n",
        "x = np.array(12)\n",
        "x"
      ],
      "execution_count": 72,
      "outputs": [
        {
          "output_type": "execute_result",
          "data": {
            "text/plain": [
              "array(12)"
            ]
          },
          "metadata": {
            "tags": []
          },
          "execution_count": 72
        }
      ]
    },
    {
      "cell_type": "code",
      "metadata": {
        "id": "qgrfaUlcV9kJ",
        "colab_type": "code",
        "outputId": "80780884-45d8-44ef-d0c4-23311e8dbeba",
        "colab": {
          "base_uri": "https://localhost:8080/",
          "height": 69
        }
      },
      "source": [
        "# display the number of axes of a Numpy tensor via the ndim attribute; a scalar\n",
        "# tensor has 0 axes (ndim == 0). The number of axes of a tensor is also called its rank\n",
        "print(\"Rank --> \",x.ndim)\n",
        "\n",
        "print(\"Shape --> \", x.shape)\n",
        "\n",
        "print(\"Data type -->\", x.dtype)"
      ],
      "execution_count": 73,
      "outputs": [
        {
          "output_type": "stream",
          "text": [
            "Rank -->  0\n",
            "Shape -->  ()\n",
            "Data type --> int64\n"
          ],
          "name": "stdout"
        }
      ]
    },
    {
      "cell_type": "code",
      "metadata": {
        "id": "zLFuhD7wWAgd",
        "colab_type": "code",
        "outputId": "8d1e6963-7217-4571-c8aa-bf4f4519a668",
        "colab": {
          "base_uri": "https://localhost:8080/",
          "height": 34
        }
      },
      "source": [
        "# Vectors (1D tensors)\n",
        "# An array of number is called a vector or 1D tensor. 1D tensor is said to have exactly one axis\n",
        "\n",
        "x = np.array([12, 3, 6, 14])\n",
        "x"
      ],
      "execution_count": 74,
      "outputs": [
        {
          "output_type": "execute_result",
          "data": {
            "text/plain": [
              "array([12,  3,  6, 14])"
            ]
          },
          "metadata": {
            "tags": []
          },
          "execution_count": 74
        }
      ]
    },
    {
      "cell_type": "code",
      "metadata": {
        "id": "C6E4wgoCYc51",
        "colab_type": "code",
        "outputId": "e4708823-71b8-41f4-cb06-0b1cca3c91fb",
        "colab": {
          "base_uri": "https://localhost:8080/",
          "height": 69
        }
      },
      "source": [
        "print(\"Rank --> \",x.ndim)\n",
        "\n",
        "print(\"Shape --> \", x.shape)\n",
        "\n",
        "print(\"Data type -->\", x.dtype)"
      ],
      "execution_count": 75,
      "outputs": [
        {
          "output_type": "stream",
          "text": [
            "Rank -->  1\n",
            "Shape -->  (4,)\n",
            "Data type --> int64\n"
          ],
          "name": "stdout"
        }
      ]
    },
    {
      "cell_type": "code",
      "metadata": {
        "id": "uy7ZEhZOYmA3",
        "colab_type": "code",
        "outputId": "a88903ce-efaa-4d5f-c420-303343399906",
        "colab": {
          "base_uri": "https://localhost:8080/",
          "height": 69
        }
      },
      "source": [
        "# Matrices (2D Tensors)\n",
        "\n",
        "x = np.array([[5, 78, 2, 34, 0],\n",
        "              [6, 79, 3, 35, 1],\n",
        "              [7, 80, 4, 36, 2]])\n",
        "print(\"Rank --> \",x.ndim)\n",
        "\n",
        "print(\"Shape --> \", x.shape)\n",
        "\n",
        "print(\"Data type -->\", x.dtype)"
      ],
      "execution_count": 76,
      "outputs": [
        {
          "output_type": "stream",
          "text": [
            "Rank -->  2\n",
            "Shape -->  (3, 5)\n",
            "Data type --> int64\n"
          ],
          "name": "stdout"
        }
      ]
    },
    {
      "cell_type": "code",
      "metadata": {
        "id": "OaBSG0mdpGNw",
        "colab_type": "code",
        "outputId": "bb2688a3-b5ce-441f-f414-8c2f070a1681",
        "colab": {
          "base_uri": "https://localhost:8080/",
          "height": 69
        }
      },
      "source": [
        "# 3D tensors and higher-dimensional tensors\n",
        "\n",
        "x = np.array([[[5, 78, 2, 34, 0],\n",
        "[6, 79, 3, 35, 1],\n",
        "[7, 80, 4, 36, 2]],\n",
        "[[5, 78, 2, 34, 0],\n",
        "[6, 79, 3, 35, 1],\n",
        "[7, 80, 4, 36, 2]],\n",
        "[[5, 78, 2, 34, 0],\n",
        "[6, 79, 3, 35, 1],\n",
        "[7, 80, 4, 36, 2]]])\n",
        "\n",
        "print(\"Rank --> \",x.ndim)\n",
        "\n",
        "print(\"Shape --> \", x.shape)\n",
        "\n",
        "print(\"Data type -->\", x.dtype)"
      ],
      "execution_count": 77,
      "outputs": [
        {
          "output_type": "stream",
          "text": [
            "Rank -->  3\n",
            "Shape -->  (3, 3, 5)\n",
            "Data type --> int64\n"
          ],
          "name": "stdout"
        }
      ]
    },
    {
      "cell_type": "markdown",
      "metadata": {
        "id": "LGGioymop7I8",
        "colab_type": "text"
      },
      "source": [
        "**Three keys attributes of tensors : :**\n",
        "\n",
        "\n",
        "1.   Ranks --> the tensor’s ndim in Python libraries such as Numpy.\n",
        "2.   Shape --> describes how many dimensions the tensor\n",
        "has along each axis.\n",
        "3.   Data type --> type of the data\n",
        "contained in the tensor; for instance, a tensor’s type could be float32, uint8,\n",
        "float64, and so on. On rare occasions, you may see a char tensor\n",
        "\n",
        "\n",
        "---\n",
        "\n",
        "\n",
        "**Note that**\n",
        "\n",
        "string tensors don’t exist in Numpy (or in \n",
        "most other libraries), because tensors\n",
        "live in preallocated, contiguous memory segments: and strings, being variable\n",
        "length, would preclude the use of this implementation.\n",
        "\n",
        "\n",
        "\n"
      ]
    },
    {
      "cell_type": "markdown",
      "metadata": {
        "id": "f453IrZetu7p",
        "colab_type": "text"
      },
      "source": [
        "**MNIST DATASET**\n",
        "\n",
        "Analysis"
      ]
    },
    {
      "cell_type": "code",
      "metadata": {
        "id": "-A4DK1Sztk1R",
        "colab_type": "code",
        "outputId": "308cf2c9-db33-4e39-f90d-7cc5f6552025",
        "colab": {
          "base_uri": "https://localhost:8080/",
          "height": 69
        }
      },
      "source": [
        "print(\"Ranks of train_images : :  \", train_images.ndim)\n",
        "print(\"Shape of train_images : : \", train_images.shape)\n",
        "print(\"Data type of train_images : : :\", train_images.dtype)"
      ],
      "execution_count": 78,
      "outputs": [
        {
          "output_type": "stream",
          "text": [
            "Ranks of train_images : :   3\n",
            "Shape of train_images : :  (60000, 28, 28)\n",
            "Data type of train_images : : : uint8\n"
          ],
          "name": "stdout"
        }
      ]
    },
    {
      "cell_type": "code",
      "metadata": {
        "id": "VYC3TGW8t_1W",
        "colab_type": "code",
        "outputId": "a621d30d-353a-40bd-db22-c098f4b460f7",
        "colab": {
          "base_uri": "https://localhost:8080/",
          "height": 265
        }
      },
      "source": [
        "# displaying the fourth digit\n",
        "# specific elements in a tensor is called tensor slicing\n",
        "digit = train_images[4]\n",
        "\n",
        "import matplotlib.pyplot as plt\n",
        "plt.imshow(digit, cmap=plt.cm.binary)\n",
        "plt.show()"
      ],
      "execution_count": 79,
      "outputs": [
        {
          "output_type": "display_data",
          "data": {
            "image/png": "[encoded data removed]",
            "text/plain": [
              "<Figure size 432x288 with 1 Axes>"
            ]
          },
          "metadata": {
            "tags": [],
            "needs_background": "light"
          }
        }
      ]
    },
    {
      "cell_type": "markdown",
      "metadata": {
        "id": "-R03CCD2vmGY",
        "colab_type": "text"
      },
      "source": [
        "**NOTE :**\n",
        "`cmapstr or Colormap, optional`\n",
        "\n",
        "    The Colormap instance or registered colormap name used to map scalar data to colors. \n",
        "###    This parameter is ignored for RGB(A) data. Defaults to \n",
        "                      `rcParams[\"image.cmap\"] (default: 'viridis').`"
      ]
    },
    {
      "cell_type": "markdown",
      "metadata": {
        "id": "vHl_Du1Mwbby",
        "colab_type": "text"
      },
      "source": [
        "# Manipulating tensor"
      ]
    },
    {
      "cell_type": "code",
      "metadata": {
        "id": "HqHSSgWdvAeH",
        "colab_type": "code",
        "outputId": "9ea12786-300a-4248-9e4f-d6f64b08e550",
        "colab": {
          "base_uri": "https://localhost:8080/",
          "height": 52
        }
      },
      "source": [
        "# The following example selects digits #10 to #100 (#100 isn’t included) and puts them in an array of shape (90, 28, 28):\n",
        "print(\"Shape of train_images : : \", train_images.shape)\n",
        "my_slice = train_images[10:100]\n",
        "\n",
        "print(\"Shape of my_slice : : \", my_slice.shape)"
      ],
      "execution_count": 80,
      "outputs": [
        {
          "output_type": "stream",
          "text": [
            "Shape of train_images : :  (60000, 28, 28)\n",
            "Shape of my_slice : :  (90, 28, 28)\n"
          ],
          "name": "stdout"
        }
      ]
    },
    {
      "cell_type": "code",
      "metadata": {
        "id": "KLQkeSZvw-WB",
        "colab_type": "code",
        "outputId": "c5bc606e-4466-4f7a-ee5b-67398e1253b9",
        "colab": {
          "base_uri": "https://localhost:8080/",
          "height": 34
        }
      },
      "source": [
        "# specifies a start index and stop\n",
        "# index for the slice along each tensor axis. Note that : is equivalent to selecting the\n",
        "# entire axis:\n",
        "\n",
        "# Equivalent to previous example\n",
        "\n",
        "my_slice = train_images[10:100, :, :]\n",
        "print(\"Shape of my_slice : : \", my_slice.shape)"
      ],
      "execution_count": 81,
      "outputs": [
        {
          "output_type": "stream",
          "text": [
            "Shape of my_slice : :  (90, 28, 28)\n"
          ],
          "name": "stdout"
        }
      ]
    },
    {
      "cell_type": "code",
      "metadata": {
        "id": "91rhwJxAyJPE",
        "colab_type": "code",
        "outputId": "56fa742a-e677-4040-fed9-3a2a31537649",
        "colab": {
          "base_uri": "https://localhost:8080/",
          "height": 34
        }
      },
      "source": [
        "# Equivalent to previous example\n",
        "\n",
        "my_slice = train_images[10:100, 0:28, 0:28]\n",
        "print(\"Shape of my_slice : : \", my_slice.shape)"
      ],
      "execution_count": 82,
      "outputs": [
        {
          "output_type": "stream",
          "text": [
            "Shape of my_slice : :  (90, 28, 28)\n"
          ],
          "name": "stdout"
        }
      ]
    },
    {
      "cell_type": "code",
      "metadata": {
        "id": "lx7CLbhsyQf9",
        "colab_type": "code",
        "outputId": "e112ce9d-6690-4096-9730-8056a72ed125",
        "colab": {
          "base_uri": "https://localhost:8080/",
          "height": 34
        }
      },
      "source": [
        "# select between any two indices along each tensor axis. \n",
        "# For instance, in order to select 14 × 14 pixels in the bottom-right corner of all images\n",
        "\n",
        "my_slice = train_images[:, 14:, 14:]\n",
        "\n",
        "print(\"Shape of my_slice : : \", my_slice.shape)"
      ],
      "execution_count": 83,
      "outputs": [
        {
          "output_type": "stream",
          "text": [
            "Shape of my_slice : :  (60000, 14, 14)\n"
          ],
          "name": "stdout"
        }
      ]
    },
    {
      "cell_type": "code",
      "metadata": {
        "id": "bYtwbfQnyoyA",
        "colab_type": "code",
        "outputId": "9f23f248-d3d2-473e-d153-4b4eab49c4ba",
        "colab": {
          "base_uri": "https://localhost:8080/",
          "height": 34
        }
      },
      "source": [
        "# possible to use negative indices. Much like negative indices in Python lists,\n",
        "# they indicate a position relative to the end of the current axis. In order to crop the\n",
        "# images to patches of 14 × 14 pixels centered in the middle\n",
        "\n",
        "my_slice = train_images[:, 7:-7, 7:-7]\n",
        "\n",
        "print(\"Shape of my_slice : : \", my_slice.shape)"
      ],
      "execution_count": 84,
      "outputs": [
        {
          "output_type": "stream",
          "text": [
            "Shape of my_slice : :  (60000, 14, 14)\n"
          ],
          "name": "stdout"
        }
      ]
    },
    {
      "cell_type": "markdown",
      "metadata": {
        "id": "IuIOqXjqzdTk",
        "colab_type": "text"
      },
      "source": [
        "# The notion of data batches"
      ]
    },
    {
      "cell_type": "code",
      "metadata": {
        "id": "GZV0Hl6Hy7WG",
        "colab_type": "code",
        "outputId": "588d3df1-b9a7-48d0-f98c-af20abf60229",
        "colab": {
          "base_uri": "https://localhost:8080/",
          "height": 69
        }
      },
      "source": [
        "# the first axis (axis 0 because indexing start at 0)  ---> Sample axis\n",
        "\n",
        "# Deep learning models don't process an entire data set all at once, rather they break the data into small batches\n",
        "\n",
        "# here’s one batch of our MNIST digits, with batch size of 128:\n",
        "\n",
        "print(\"Shape of train_images : : \", train_images.shape)\n",
        "batch1 = train_images[:128]\n",
        "print(\"Shape of batch1 : : \", batch1.shape)\n",
        "batch2 = train_images[128:256]\n",
        "print(\"Shape of batch2 : : \", batch2.shape)\n",
        "\n",
        "# batch = train_images[128 * n: 128 *(n+1)]"
      ],
      "execution_count": 85,
      "outputs": [
        {
          "output_type": "stream",
          "text": [
            "Shape of train_images : :  (60000, 28, 28)\n",
            "Shape of batch1 : :  (128, 28, 28)\n",
            "Shape of batch2 : :  (128, 28, 28)\n"
          ],
          "name": "stdout"
        }
      ]
    },
    {
      "cell_type": "markdown",
      "metadata": {
        "id": "rd4t14EN1IyU",
        "colab_type": "text"
      },
      "source": [
        "*When considering such a batch tensor, the first axis (axis 0) is called the batch axis or batch dimension*"
      ]
    },
    {
      "cell_type": "markdown",
      "metadata": {
        "id": "2a0oYhmR11Ru",
        "colab_type": "text"
      },
      "source": [
        "**Diifferent types of data dealed with tensor**\n",
        "\n",
        "* Vector data—2D tensors of shape (samples, features)\n",
        "\n",
        "* Timeseries data or sequence data—3D tensors of shape (samples, timesteps,\n",
        "features)\n",
        "\n",
        "* Images—4D tensors of shape (samples, height, width, channels) or (samples,\n",
        "channels, height, width)\n",
        "\n",
        "* Video—5D tensors of shape (samples, frames, height, width, channels) or\n",
        "(samples, frames, channels, height, width)"
      ]
    },
    {
      "cell_type": "markdown",
      "metadata": {
        "id": "Xj3Ad1xV2Stu",
        "colab_type": "text"
      },
      "source": [
        "# Vector data\n",
        "\n",
        "In such a dataset, each single data point can be encoded\n",
        "as a vector, and thus a batch of data will be encoded as a 2D tensor (that is, an array of\n",
        "vectors), where \n",
        "\n",
        "the first axis is the samples axis and \n",
        "\n",
        "the second axis is the features axis."
      ]
    },
    {
      "cell_type": "markdown",
      "metadata": {
        "id": "L2bY4w3k6xM0",
        "colab_type": "text"
      },
      "source": [
        "* An actuarial dataset of people, where we consider each person’s age, ZIP code,\n",
        "and income. Each person can be characterized as a vector of 3 values, and thus\n",
        "an entire dataset of 100,000 people can be stored in a 2D tensor of shape\n",
        "(100000, 3).\n",
        "\n",
        "* A dataset of text documents, where we represent each document by the counts\n",
        "of how many times each word appears in it (out of a dictionary of 20,000 common\n",
        "words). Each document can be encoded as a vector of 20,000 values (one\n",
        "count per word in the dictionary), and thus an entire dataset of 500 documents\n",
        "can be stored in a tensor of shape (500, 20000)."
      ]
    },
    {
      "cell_type": "markdown",
      "metadata": {
        "id": "zaWrzN1Y7C6J",
        "colab_type": "text"
      },
      "source": [
        "# Timeseries Data or Sequence Data\n",
        "Whenever time matters in your data (or the notion of sequence order), it makes sense\n",
        "to store it in a 3D tensor with an explicit time axis. Each sample can be encoded as a\n",
        "sequence of vectors (a 2D tensor), and thus a batch of data will be encoded as a 3D\n",
        "tensor.\n",
        "\n",
        "NOTE \n",
        "\n",
        "time axis is always the second axis (axis of index 1), by convention\n",
        "\n",
        "* A dataset of stock prices. \n",
        "  \n",
        "  Every minute, we store the current price of the stock, the highest price in the past minute, and the lowest price in the past minute.\n",
        "  \n",
        "  Thus every minute is encoded as a 3D vector, an entire day of trading is\n",
        "encoded as a 2D tensor of shape (390, 3) (there are 390 minutes in a trading\n",
        "day), and 250 days’ worth of data can be stored in a 3D tensor of shape (250,\n",
        "390, 3). Here, each sample would be one day’s worth of data.\n",
        "\n",
        "* A dataset of tweets, where we encode each tweet as a sequence of 280 characters\n",
        "out of an alphabet of 128 unique characters. \n",
        "\n",
        "  In this setting, each character can\n",
        "be encoded as a binary vector of size 128 (an all-zeros vector except for a 1 entry\n",
        "at the index corresponding to the character). \n",
        "\n",
        "  Then each tweet can be encoded\n",
        "as a 2D tensor of shape (280, 128), and a dataset of 1 million tweets can be\n",
        "stored in a tensor of shape (1000000, 280, 128)."
      ]
    },
    {
      "cell_type": "markdown",
      "metadata": {
        "id": "oHjqAZFa_SIM",
        "colab_type": "text"
      },
      "source": [
        "# Image Data\n",
        "\n",
        "Images typically have three dimensions: height, width, and color depth.\n",
        "\n",
        "Grayscale images (like our MNIST digits) have only a single color channel and could\n",
        "thus be stored in 2D tensors, \n",
        "\n",
        "by convention image tensors are always 3D, with a onedimensional color channel for grayscale images\n",
        "\n",
        "A batch of 128 grayscale images of\n",
        "size 256 × 256 could thus be stored in a tensor of shape (128, 256, 256, 1), \n",
        "\n",
        "and a batch of 128 color images could be stored in a tensor of shape (128, 256, 256, 3)\n",
        "\n",
        "two conventions for shapes of images tensors :\n",
        "\n",
        "* channels-last convention\n",
        "(used by TensorFlow) `(samples, height, width, color_depth)`\n",
        "* the channels-first convention (used by Theano) `(samples, color_depth, height, width)`\n",
        "\n",
        "previous examples would become (128, 1, 256, 256)\n",
        "and (128, 3, 256, 256).\n",
        "\n",
        "Keras framework support both format\n"
      ]
    },
    {
      "cell_type": "markdown",
      "metadata": {
        "id": "BiSD8XvXArYD",
        "colab_type": "text"
      },
      "source": [
        "# Video Data\n",
        "\n",
        "need 5D tensors\n",
        "\n",
        "A video can be understood as a sequence of frames, each frame being a color image.\n",
        "\n",
        "each frame can be stored in a 3D tensor `(height, width, color_depth)`, a\n",
        "sequence of frames can be stored in a 4D tensor \n",
        "`(frames, height, width, color_\n",
        "depth)`\n",
        "\n",
        "thus a batch of different videos can be stored in a 5D tensor of shape\n",
        "`(samples, frames, height, width, color_depth)`.\n",
        "\n",
        "For instance,\n",
        "\n",
        "a 60-second, 144 × 256 YouTube video clip sampled at 4 frames per\n",
        "second would have 240 frames. \n",
        "\n",
        "A batch of four such video clips would be stored in a\n",
        "tensor of shape (4, 240, 144, 256, 3). \n",
        "\n",
        " --> That’s a total of 106,168,320 values! \n",
        " \n",
        "If the dtype of the tensor was float32, then each value would be stored in 32 bits, so the\n",
        "tensor would represent 405 MB. Heavy! \n",
        "\n",
        "--> Videos you encounter in real life are much\n",
        "lighter, because they aren’t stored in float32, and they’re typically compressed by a\n",
        "large factor (such as in the MPEG format)."
      ]
    },
    {
      "cell_type": "markdown",
      "metadata": {
        "id": "BJT1CNryEjQ5",
        "colab_type": "text"
      },
      "source": [
        "# Tensor Operation\n",
        "\n",
        "* a dot product (dot) between\n",
        "the input tensor and a tensor named W; \n",
        "\n",
        "* an addition (+) between the resulting 2D tensor and \n",
        "\n",
        "* a vector b; and, finally, a relu operation. relu(x) is max(x, 0)."
      ]
    },
    {
      "cell_type": "markdown",
      "metadata": {
        "id": "pBhVCaBCFyax",
        "colab_type": "text"
      },
      "source": [
        "**Python's assert** statement is a debugging aid that tests a condition. If the condition is true, it does nothing and your program just continues to execute. But if the assert condition evaluates to false, it raises an AssertionError exception with an optional error message."
      ]
    },
    {
      "cell_type": "code",
      "metadata": {
        "id": "VSHJ9svE0c2a",
        "colab_type": "code",
        "colab": {
          "base_uri": "https://localhost:8080/",
          "height": 86
        },
        "outputId": "791a4a7f-fb49-40f5-9281-bfd715359e69"
      },
      "source": [
        "# Element-wise operation\n",
        "\n",
        "x = np.array([[0, 0, 0, 1, 0],\n",
        "              [1, 0, 1, 0, 1],\n",
        "              [1, 0, 1, 1, 1]])\n",
        "\n",
        "def naive_relu(x):\n",
        "  assert len(x.shape) == 2 # x is a 2D Numpy tensor\n",
        "\n",
        "  x = x.copy() # Avoid overwritting the input tensor\n",
        "  for i in range(x.shape[0]):\n",
        "    for j in range(x.shape[1]):\n",
        "      x[i, j] = max(x[i, j], 0)\n",
        "  return x\n",
        "\n",
        "returned_tensor = naive_relu(x)\n",
        "\n",
        "print(\"returned_tensor : : \\n\", returned_tensor)"
      ],
      "execution_count": 89,
      "outputs": [
        {
          "output_type": "stream",
          "text": [
            "returned_tensor : : \n",
            " [[0 0 0 1 0]\n",
            " [1 0 1 0 1]\n",
            " [1 0 1 1 1]]\n"
          ],
          "name": "stdout"
        }
      ]
    },
    {
      "cell_type": "code",
      "metadata": {
        "id": "EBpQAOdHHM7U",
        "colab_type": "code",
        "colab": {
          "base_uri": "https://localhost:8080/",
          "height": 86
        },
        "outputId": "a1457860-c266-4223-df72-9d72ad570ea2"
      },
      "source": [
        "# same for addition:\n",
        "\n",
        "x = np.array([[0, 0, 0, 1, 0],\n",
        "              [1, 0, 1, 0, 1],\n",
        "              [1, 0, 1, 1, 1]])\n",
        "\n",
        "y = np.array([[1, 1, 1, 1, 0],\n",
        "              [1, 0, 1, 0, 1],\n",
        "              [1, 0, 1, 1, 1]])\n",
        "\n",
        "\n",
        "def naive_add(x, y):\n",
        "  assert len(x.shape) == 2\n",
        "  assert x.shape == y.shape\n",
        "  x = x.copy()\n",
        "  for i in range(x.shape[0]):\n",
        "    for j in range(x.shape[1]):\n",
        "      x[i, j] += y[i, j]\n",
        "  return x\n",
        "\n",
        "\n",
        "returned_tensor = naive_add(x, y)\n",
        "\n",
        "print(\"returned_tensor : : \\n\", returned_tensor)\n",
        "\n",
        "# On the same principle, you can do element-wise multiplication, subtraction, and so on."
      ],
      "execution_count": 93,
      "outputs": [
        {
          "output_type": "stream",
          "text": [
            "returned_tensor : : \n",
            " [[1 1 1 2 0]\n",
            " [2 0 2 0 2]\n",
            " [2 0 2 2 2]]\n"
          ],
          "name": "stdout"
        }
      ]
    },
    {
      "cell_type": "markdown",
      "metadata": {
        "id": "v1XmU0ouKJoP",
        "colab_type": "text"
      },
      "source": [
        "when dealing with Numpy arrays, these operations are available as welloptimized\n",
        "built-in Numpy functions, which themselves delegate the heavy lifting to a\n",
        "Basic Linear Algebra Subprograms (BLAS) implementation\n",
        "\n",
        "\n",
        "\n",
        "```\n",
        "import numpy as np\n",
        "\n",
        "z = x + y       # Element wise addition\n",
        "\n",
        "z = np.maximum(z, 0.)   # Element wise relu\n",
        "```\n",
        "\n"
      ]
    },
    {
      "cell_type": "markdown",
      "metadata": {
        "id": "omqh7FwTMVon",
        "colab_type": "text"
      },
      "source": [
        "# Broadcasting\n",
        "\n",
        "added a 2D tensor with a vector. \n",
        "\n",
        "What happens with addition when the shapes of the two tensors being added differ?\n",
        "\n",
        "When possible, and if there’s no ambiguity, the smaller tensor will be broadcasted to\n",
        "match the shape of the larger tensor.\n",
        "\n",
        "Broadcasting consists of two steps:\n",
        "\n",
        "1.  **Axes (called broadcast axes)** are added to the smaller tensor to match the ndim of\n",
        "the larger tensor.\n",
        "2.  The smaller tensor is repeated alongside these new axes to match the full shape\n",
        "of the larger tensor.\n",
        "\n",
        "\n",
        "*Consider X with shape (32, 10) and y with shape (10,). \n",
        "\n",
        "First, we add an empty first axis to y, whose shape becomes (1, 10). \n",
        "\n",
        "Then, we repeat y 32 times alongside this new axis, so that we end up with a tensor Y with shape (32, 10), \n",
        "      where Y[i, :] == y for i in range(0, 32).\n",
        "      \n",
        "      At this point, we can proceed to add X and Y, because they have the same shape."
      ]
    },
    {
      "cell_type": "code",
      "metadata": {
        "id": "zhoauG3EMVKN",
        "colab_type": "code",
        "colab": {}
      },
      "source": [
        "def naive_add_matrix_and_vector(x, y):\n",
        "  assert len(x.shape) == 2  # x is a 2D numpy tensor\n",
        "  assert len(y.shape) == 1  # y is a Numpy as vector\n",
        "  assert x.shape[1] == y.shape[0]\n",
        "\n",
        "  x = x.copy()  # Avoid overwritting the input tensor\n",
        "  for i in range(x.shape[0]):\n",
        "    for j in range(x.shape[1]):\n",
        "      x[i,j] += y[j]\n",
        "  return x"
      ],
      "execution_count": 0,
      "outputs": []
    },
    {
      "cell_type": "code",
      "metadata": {
        "id": "zMg4nLPgIgjI",
        "colab_type": "code",
        "colab": {
          "base_uri": "https://localhost:8080/",
          "height": 69
        },
        "outputId": "6cc5dc4a-05a2-4c18-b89f-7dbf4d68cb1c"
      },
      "source": [
        "x = np.random.random((64, 3, 32, 10))\n",
        "y = np.random.random((32, 10))\n",
        "\n",
        "z = np.maximum(x, y)\n",
        "\n",
        "print(\"Shape of x : : \", x.shape)\n",
        "print(\"Shape of y : : \", y.shape)\n",
        "print(\"Shape of z : : \", z.shape)"
      ],
      "execution_count": 101,
      "outputs": [
        {
          "output_type": "stream",
          "text": [
            "Shape of x : :  (64, 3, 32, 10)\n",
            "Shape of y : :  (32, 10)\n",
            "Shape of z : :  (64, 3, 32, 10)\n"
          ],
          "name": "stdout"
        }
      ]
    },
    {
      "cell_type": "markdown",
      "metadata": {
        "id": "0-BbZawFSm_r",
        "colab_type": "text"
      },
      "source": [
        "# Tensor Dot\n",
        "\n",
        "The dot operation, also called a tensor product (not to be confused with an elementwise\n",
        "product) is the most common, most useful tensor operation. Contrary to\n",
        "element-wise operations, it combines entries in the input tensors\n",
        "\n",
        "An element-wise product is done with the * operator in Numpy, Keras, Theano,\n",
        "and TensorFlow. dot uses a different syntax in TensorFlow, but in both Numpy and\n",
        "Keras it’s done using the standard dot operator:\n",
        "\n",
        "\n",
        "\n",
        "```\n",
        "import numpy as np\n",
        "z = np.dot(x, y)\n",
        "```\n",
        "\n",
        "\n",
        "In mathematical notation, you’d note the operation with a dot (.):\n",
        "\n",
        "```\n",
        "z = x . y\n",
        "```"
      ]
    },
    {
      "cell_type": "code",
      "metadata": {
        "id": "sXgk2dZeOr31",
        "colab_type": "code",
        "colab": {}
      },
      "source": [
        "def naive_vector_dot(x, y):\n",
        "  assert len(x.shape) == 1\n",
        "  assert len(y.shape) == 1\n",
        "  assert x.shape[0] == y.shape[0]\n",
        "\n",
        "  z = 0.\n",
        "  for i in range(x.shape[0]):\n",
        "    z += x[i] * y[i]\n",
        "  return z"
      ],
      "execution_count": 0,
      "outputs": []
    },
    {
      "cell_type": "code",
      "metadata": {
        "id": "ReACusQzTqEQ",
        "colab_type": "code",
        "colab": {}
      },
      "source": [
        "import numpy as np\n",
        "\n",
        "def naive_matrix_vector_dot(x, y):\n",
        "  assert len(x.shape) == 2   # x is a Numpy matrix\n",
        "  assert len(y.shape) == 1   # y is a Numpy vector\n",
        "  assert x.shape[1] == y.shape[0]   # first dimension of x must be same as oth dimension of y\n",
        "\n",
        "  z = np.zeros(x.shape[0])    # return a vector of 0s with same shape as x[0]\n",
        "  for i in range(x.shape[0]):\n",
        "    for j in range(x.shape[0]):\n",
        "      z[i] += x[i, j] * y[j]\n",
        "  return z"
      ],
      "execution_count": 0,
      "outputs": []
    },
    {
      "cell_type": "code",
      "metadata": {
        "id": "Pb6qwPQuWuWu",
        "colab_type": "code",
        "colab": {}
      },
      "source": [
        "# we could also resuse the code we wrote previously\n",
        "\n",
        "def naive_matrix_vector_dot(x, y):\n",
        "  z = np.zeros(x.shape[0])    # return a vector of 0s with same shape as x[0]\n",
        "  for i in range(x.shape[0]):\n",
        "    z[i] = naive_vector_dot(x[i, :], y)\n",
        "  return z"
      ],
      "execution_count": 0,
      "outputs": []
    },
    {
      "cell_type": "markdown",
      "metadata": {
        "id": "Nryxz07rYdpI",
        "colab_type": "text"
      },
      "source": [
        "as soon as one of the two tensors has an ndim greater than 1, dot is no longer\n",
        "symmetric, which is to say that dot(x, y) isn’t the same as dot(y, x).\n",
        "\n",
        "You\n",
        "can take the dot product of two matrices x and y (dot(x, y)) if and only if\n",
        "x.shape[1] == y.shape[0]. The result is a matrix with shape (x.shape[0],\n",
        "y.shape[1]), where the coefficients are the vector products between the rows of x\n",
        "and the columns of y."
      ]
    },
    {
      "cell_type": "code",
      "metadata": {
        "id": "R1yAI7uTYT56",
        "colab_type": "code",
        "colab": {}
      },
      "source": [
        "def naive_matrix_dot(x, y):\n",
        "  assert len(x.shape) == 2\n",
        "  assert len(y.shape) == 2\n",
        "  assert x.shape[1] == y.shape[0] \n",
        "\n",
        "  z = np.zeros((x.shape[0], y.shape[1]))\n",
        "  for i in range(x.shape[0]):\n",
        "    for j in range(y.shape[1]):\n",
        "      row_x = x[i, :]\n",
        "      column_y = y[:, j]\n",
        "      x[i, j] = naive_vector_dot(row_x, column_y)\n",
        "  return z"
      ],
      "execution_count": 0,
      "outputs": []
    },
    {
      "cell_type": "markdown",
      "metadata": {
        "id": "n6Arhkheqnpk",
        "colab_type": "text"
      },
      "source": [
        "More generally, you can take the dot product between higher-dimensional tensors,\n",
        "following the same rules for shape compatibility as outlined earlier for the 2D case:\n",
        "(a, b, c, d) . (d,) -> (a, b, c)\n",
        "(a, b, c, d) . (d, e) -> (a, b, c, e)\n",
        "And so on."
      ]
    },
    {
      "cell_type": "markdown",
      "metadata": {
        "id": "kjnJk1dAq0jz",
        "colab_type": "text"
      },
      "source": [
        "# Tensor reshaping\n",
        "\n",
        "A third type of tensor operations that's essential to understand is `tensor mapping`.\n",
        "\n",
        "Reshaping a tensor means rearranging its rows and columns to match a target shape.\n",
        "Naturally, the reshaped tensor has the same total number of coefficients as the initial tensor."
      ]
    },
    {
      "cell_type": "code",
      "metadata": {
        "id": "EVPwseYbpz3O",
        "colab_type": "code",
        "colab": {
          "base_uri": "https://localhost:8080/",
          "height": 34
        },
        "outputId": "656a74f4-4c32-4d3f-e803-4b91e22f21bd"
      },
      "source": [
        "x = np.array([[0., 1.],\n",
        "              [2., 3.],\n",
        "              [4., 5.]])\n",
        "\n",
        "print(\"Shape of x : : : \",x.shape)"
      ],
      "execution_count": 108,
      "outputs": [
        {
          "output_type": "stream",
          "text": [
            "Shape of x : : :  (3, 2)\n"
          ],
          "name": "stdout"
        }
      ]
    },
    {
      "cell_type": "code",
      "metadata": {
        "id": "jmZP8XWYsC03",
        "colab_type": "code",
        "colab": {
          "base_uri": "https://localhost:8080/",
          "height": 156
        },
        "outputId": "a9accf84-a01e-40d1-f4b5-8e118dd5bd9f"
      },
      "source": [
        "x = x.reshape((6, 1))\n",
        "\n",
        "print(\"x : : : \\n\", x)\n",
        "print(\"Shape of x : : : \",x.shape)"
      ],
      "execution_count": 111,
      "outputs": [
        {
          "output_type": "stream",
          "text": [
            "x : : : \n",
            " [[0.]\n",
            " [1.]\n",
            " [2.]\n",
            " [3.]\n",
            " [4.]\n",
            " [5.]]\n",
            "Shape of x : : :  (6, 1)\n"
          ],
          "name": "stdout"
        }
      ]
    },
    {
      "cell_type": "code",
      "metadata": {
        "id": "o7De1rApsRx1",
        "colab_type": "code",
        "colab": {
          "base_uri": "https://localhost:8080/",
          "height": 86
        },
        "outputId": "c79caedb-3741-407b-f78e-68449606565d"
      },
      "source": [
        "x = x.reshape((2, 3))\n",
        "\n",
        "print(\"x : : : \\n\", x)\n",
        "print(\"Shape of x : : : \",x.shape)"
      ],
      "execution_count": 112,
      "outputs": [
        {
          "output_type": "stream",
          "text": [
            "x : : : \n",
            " [[0. 1. 2.]\n",
            " [3. 4. 5.]]\n",
            "Shape of x : : :  (2, 3)\n"
          ],
          "name": "stdout"
        }
      ]
    },
    {
      "cell_type": "markdown",
      "metadata": {
        "id": "oefkN41vtTM4",
        "colab_type": "text"
      },
      "source": [
        "A special case of reshaping that’s commonly encountered is transposition. Transposing a\n",
        "matrix means exchanging its rows and its columns, so that x[i, :] becomes x[:, i]:"
      ]
    },
    {
      "cell_type": "code",
      "metadata": {
        "id": "CYhku1VCtHFk",
        "colab_type": "code",
        "colab": {
          "base_uri": "https://localhost:8080/",
          "height": 34
        },
        "outputId": "ad9071a8-aa4b-4e30-a1b9-5f93ba832142"
      },
      "source": [
        "x = np.zeros((300, 20))\n",
        "x = np.transpose(x)\n",
        "\n",
        "print(\"Shape of x : : : \", x.shape)"
      ],
      "execution_count": 114,
      "outputs": [
        {
          "output_type": "stream",
          "text": [
            "Shape of x : : :  (20, 300)\n"
          ],
          "name": "stdout"
        }
      ]
    },
    {
      "cell_type": "markdown",
      "metadata": {
        "id": "P4dNzSV6uekR",
        "colab_type": "text"
      },
      "source": [
        "# Geomatric Interpretation of tensor operations"
      ]
    },
    {
      "cell_type": "code",
      "metadata": {
        "id": "RFwXBo3dtjJB",
        "colab_type": "code",
        "colab": {}
      },
      "source": [
        ""
      ],
      "execution_count": 0,
      "outputs": []
    }
  ]
}